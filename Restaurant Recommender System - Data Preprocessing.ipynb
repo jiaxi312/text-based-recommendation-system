{
 "cells": [
  {
   "cell_type": "code",
   "execution_count": 39,
   "id": "2f1abfae",
   "metadata": {},
   "outputs": [],
   "source": [
    "import json\n",
    "import pandas as pd\n",
    "from sklearn.model_selection import train_test_split\n",
    "from sklearn.feature_extraction.text import CountVectorizer\n",
    "import string\n",
    "from nltk.corpus import stopwords\n",
    "from nltk.tokenize import word_tokenize\n",
    "import os\n",
    "pd.set_option('max_colwidth', None)\n",
    "# Load data using Python JSON module\n",
    "with open('filter_all_t.json','r') as f:\n",
    "    data = json.loads(f.read())\n"
   ]
  },
  {
   "cell_type": "code",
   "execution_count": 27,
   "id": "861619b1",
   "metadata": {},
   "outputs": [],
   "source": [
    "def concatenate_reviews(input_df):\n",
    "    stop_words = list(stopwords.words('english'))\n",
    "    stop_words += list(string.punctuation)\n",
    "    for i, r in enumerate(input_df['review_text']):\n",
    "        word_tokens = word_tokenize(r)\n",
    "        filtered_review=''\n",
    "        for w in word_tokens:\n",
    "            if w.lower() not in stop_words:\n",
    "                filtered_review = filtered_review+w+\" \"\n",
    "        input_df.at[i, 'review_text_filtered'] = filtered_review \n",
    "\n",
    "\n",
    "\n",
    "# Create a single dataframe having user id, restaurant id and the reviews received for each separately\n",
    "\n",
    "    df1=pd.DataFrame()\n",
    "    df1[['id','review_text_filtered']]=input_df[['business_id','review_text_filtered']]\n",
    "    df1['type']='B'\n",
    "\n",
    "    df2=pd.DataFrame()\n",
    "    df2[['id','review_text_filtered']]=input_df[['user_id','review_text_filtered']]\n",
    "    df2['type']='U'\n",
    "\n",
    "    df = pd.concat([df1, df2],ignore_index=True)\n",
    "\n",
    "# Concatenate reviews for each user id and restaurant id respectively. Thus we have a final 'data' dataframe that has all \n",
    "# reviews any user has ever written and all reviews any restaurant has ever received\n",
    "\n",
    "    data = df.groupby(['id','type'])['review_text_filtered'].apply(lambda x: ' '.join(x)).reset_index()\n",
    "\n",
    "\n",
    "\n",
    "# Master database on user-restaurant-rating grain\n",
    "\n",
    "    d1=pd.merge(input_df[['user_id','business_id','rating','review_text_filtered']],data[['review_text_filtered','id']],left_on='user_id',right_on='id')\n",
    "    d1.rename(columns = {'review_text_filtered_x':'review'}, inplace = True)\n",
    "    d1.rename(columns = {'review_text_filtered_y':'user_reviews'}, inplace = True)\n",
    "    data_master=pd.merge(d1[['user_id','business_id','rating','review','user_reviews']],data[['review_text_filtered','id']],left_on='business_id',right_on='id')\n",
    "    data_master.rename(columns = {'review_text_filtered':'restaurant_reviews'}, inplace = True)\n",
    "    data_master.drop('id',inplace=True,axis=1)\n",
    "    return(data_master)\n",
    "    \n",
    "    "
   ]
  },
  {
   "cell_type": "code",
   "execution_count": 28,
   "id": "84245dc0",
   "metadata": {},
   "outputs": [],
   "source": [
    "# Flatten data\n",
    "df_tr = pd.json_normalize(data, record_path =['train'])\n",
    "df_ts = pd.json_normalize(data, record_path =['test'])\n",
    "\n",
    "df_tr_ts=pd.concat([df_tr,df_ts])\n",
    "\n",
    "dm=concatenate_reviews(df_tr_ts)"
   ]
  },
  {
   "cell_type": "code",
   "execution_count": 29,
   "id": "2fcb0704",
   "metadata": {},
   "outputs": [
    {
     "data": {
      "text/plain": [
       "array([[<AxesSubplot:title={'center':'rating'}>]], dtype=object)"
      ]
     },
     "execution_count": 29,
     "metadata": {},
     "output_type": "execute_result"
    },
    {
     "data": {
      "image/png": "[encoded data removed]",
      "text/plain": [
       "<Figure size 640x480 with 1 Axes>"
      ]
     },
     "metadata": {},
     "output_type": "display_data"
    }
   ],
   "source": [
    "dm.hist()"
   ]
  },
  {
   "cell_type": "code",
   "execution_count": 30,
   "id": "c0577d09",
   "metadata": {},
   "outputs": [],
   "source": [
    "dm['user_profile_length']=dm['user_reviews'].str.len()\n",
    "dm['restaurant_profile_length']=dm['restaurant_reviews'].str.len()"
   ]
  },
  {
   "cell_type": "code",
   "execution_count": 31,
   "id": "9db6a98b",
   "metadata": {},
   "outputs": [
    {
     "data": {
      "text/html": [
       "<div>\n",
       "<style scoped>\n",
       "    .dataframe tbody tr th:only-of-type {\n",
       "        vertical-align: middle;\n",
       "    }\n",
       "\n",
       "    .dataframe tbody tr th {\n",
       "        vertical-align: top;\n",
       "    }\n",
       "\n",
       "    .dataframe thead th {\n",
       "        text-align: right;\n",
       "    }\n",
       "</style>\n",
       "<table border=\"1\" class=\"dataframe\">\n",
       "  <thead>\n",
       "    <tr style=\"text-align: right;\">\n",
       "      <th></th>\n",
       "      <th>user_id</th>\n",
       "      <th>business_id</th>\n",
       "      <th>user_profile_length</th>\n",
       "    </tr>\n",
       "  </thead>\n",
       "  <tbody>\n",
       "    <tr>\n",
       "      <th>55164</th>\n",
       "      <td>108685370139018629938</td>\n",
       "      <td>60425ef37dfa7f187183c4de</td>\n",
       "      <td>30115</td>\n",
       "    </tr>\n",
       "    <tr>\n",
       "      <th>49817</th>\n",
       "      <td>108685370139018629938</td>\n",
       "      <td>604e40f277e81aaed3ccae6d</td>\n",
       "      <td>30115</td>\n",
       "    </tr>\n",
       "    <tr>\n",
       "      <th>55141</th>\n",
       "      <td>108685370139018629938</td>\n",
       "      <td>6041ba6b2e57ebdea29c5e16</td>\n",
       "      <td>30115</td>\n",
       "    </tr>\n",
       "    <tr>\n",
       "      <th>35839</th>\n",
       "      <td>108685370139018629938</td>\n",
       "      <td>604da44a77e81aaed3cca9df</td>\n",
       "      <td>30115</td>\n",
       "    </tr>\n",
       "    <tr>\n",
       "      <th>55142</th>\n",
       "      <td>108685370139018629938</td>\n",
       "      <td>60548f4a6204e8cd294f2344</td>\n",
       "      <td>30115</td>\n",
       "    </tr>\n",
       "    <tr>\n",
       "      <th>...</th>\n",
       "      <td>...</td>\n",
       "      <td>...</td>\n",
       "      <td>...</td>\n",
       "    </tr>\n",
       "    <tr>\n",
       "      <th>6086</th>\n",
       "      <td>110531561295877934244</td>\n",
       "      <td>6052e86625ef3e77019421d1</td>\n",
       "      <td>22</td>\n",
       "    </tr>\n",
       "    <tr>\n",
       "      <th>13595</th>\n",
       "      <td>117526845337709972518</td>\n",
       "      <td>604cc12d3ada919c27677c5d</td>\n",
       "      <td>19</td>\n",
       "    </tr>\n",
       "    <tr>\n",
       "      <th>51061</th>\n",
       "      <td>110632396836243887241</td>\n",
       "      <td>605076aeda79151bfc1251bf</td>\n",
       "      <td>19</td>\n",
       "    </tr>\n",
       "    <tr>\n",
       "      <th>13559</th>\n",
       "      <td>117526845337709972518</td>\n",
       "      <td>604179432e57ebdea29c494e</td>\n",
       "      <td>19</td>\n",
       "    </tr>\n",
       "    <tr>\n",
       "      <th>93137</th>\n",
       "      <td>110632396836243887241</td>\n",
       "      <td>6055cc793019cb0a47838a87</td>\n",
       "      <td>19</td>\n",
       "    </tr>\n",
       "  </tbody>\n",
       "</table>\n",
       "<p>98028 rows × 3 columns</p>\n",
       "</div>"
      ],
      "text/plain": [
       "                     user_id               business_id  user_profile_length\n",
       "55164  108685370139018629938  60425ef37dfa7f187183c4de                30115\n",
       "49817  108685370139018629938  604e40f277e81aaed3ccae6d                30115\n",
       "55141  108685370139018629938  6041ba6b2e57ebdea29c5e16                30115\n",
       "35839  108685370139018629938  604da44a77e81aaed3cca9df                30115\n",
       "55142  108685370139018629938  60548f4a6204e8cd294f2344                30115\n",
       "...                      ...                       ...                  ...\n",
       "6086   110531561295877934244  6052e86625ef3e77019421d1                   22\n",
       "13595  117526845337709972518  604cc12d3ada919c27677c5d                   19\n",
       "51061  110632396836243887241  605076aeda79151bfc1251bf                   19\n",
       "13559  117526845337709972518  604179432e57ebdea29c494e                   19\n",
       "93137  110632396836243887241  6055cc793019cb0a47838a87                   19\n",
       "\n",
       "[98028 rows x 3 columns]"
      ]
     },
     "execution_count": 31,
     "metadata": {},
     "output_type": "execute_result"
    }
   ],
   "source": [
    "dm[['user_id','business_id','user_profile_length']].sort_values(by='user_profile_length',ascending=False)"
   ]
  },
  {
   "cell_type": "code",
   "execution_count": 32,
   "id": "4636a0bb",
   "metadata": {},
   "outputs": [
    {
     "data": {
      "text/html": [
       "<div>\n",
       "<style scoped>\n",
       "    .dataframe tbody tr th:only-of-type {\n",
       "        vertical-align: middle;\n",
       "    }\n",
       "\n",
       "    .dataframe tbody tr th {\n",
       "        vertical-align: top;\n",
       "    }\n",
       "\n",
       "    .dataframe thead th {\n",
       "        text-align: right;\n",
       "    }\n",
       "</style>\n",
       "<table border=\"1\" class=\"dataframe\">\n",
       "  <thead>\n",
       "    <tr style=\"text-align: right;\">\n",
       "      <th></th>\n",
       "      <th>user_id</th>\n",
       "      <th>business_id</th>\n",
       "      <th>restaurant_profile_length</th>\n",
       "    </tr>\n",
       "  </thead>\n",
       "  <tbody>\n",
       "    <tr>\n",
       "      <th>892</th>\n",
       "      <td>106187157622385715608</td>\n",
       "      <td>60415f44c6fcf1fddba13088</td>\n",
       "      <td>21381</td>\n",
       "    </tr>\n",
       "    <tr>\n",
       "      <th>1018</th>\n",
       "      <td>100756004480198804351</td>\n",
       "      <td>60415f44c6fcf1fddba13088</td>\n",
       "      <td>21381</td>\n",
       "    </tr>\n",
       "    <tr>\n",
       "      <th>1009</th>\n",
       "      <td>100417983882138315776</td>\n",
       "      <td>60415f44c6fcf1fddba13088</td>\n",
       "      <td>21381</td>\n",
       "    </tr>\n",
       "    <tr>\n",
       "      <th>1010</th>\n",
       "      <td>110242832049687111899</td>\n",
       "      <td>60415f44c6fcf1fddba13088</td>\n",
       "      <td>21381</td>\n",
       "    </tr>\n",
       "    <tr>\n",
       "      <th>1011</th>\n",
       "      <td>102573936806592633340</td>\n",
       "      <td>60415f44c6fcf1fddba13088</td>\n",
       "      <td>21381</td>\n",
       "    </tr>\n",
       "    <tr>\n",
       "      <th>...</th>\n",
       "      <td>...</td>\n",
       "      <td>...</td>\n",
       "      <td>...</td>\n",
       "    </tr>\n",
       "    <tr>\n",
       "      <th>94173</th>\n",
       "      <td>106814415980428503192</td>\n",
       "      <td>6048f72fb1a0aaee3eefa786</td>\n",
       "      <td>8</td>\n",
       "    </tr>\n",
       "    <tr>\n",
       "      <th>91420</th>\n",
       "      <td>104301434414218494589</td>\n",
       "      <td>6054b4836204e8cd294f2415</td>\n",
       "      <td>7</td>\n",
       "    </tr>\n",
       "    <tr>\n",
       "      <th>96531</th>\n",
       "      <td>111443382102929224866</td>\n",
       "      <td>6047a85e90b81483d31aceed</td>\n",
       "      <td>7</td>\n",
       "    </tr>\n",
       "    <tr>\n",
       "      <th>60847</th>\n",
       "      <td>117133145180165134330</td>\n",
       "      <td>6041ddf22e57ebdea29c6b12</td>\n",
       "      <td>6</td>\n",
       "    </tr>\n",
       "    <tr>\n",
       "      <th>83059</th>\n",
       "      <td>117480736433703204284</td>\n",
       "      <td>6050eb4cd8c08f462b93e0f6</td>\n",
       "      <td>5</td>\n",
       "    </tr>\n",
       "  </tbody>\n",
       "</table>\n",
       "<p>98028 rows × 3 columns</p>\n",
       "</div>"
      ],
      "text/plain": [
       "                     user_id               business_id  \\\n",
       "892    106187157622385715608  60415f44c6fcf1fddba13088   \n",
       "1018   100756004480198804351  60415f44c6fcf1fddba13088   \n",
       "1009   100417983882138315776  60415f44c6fcf1fddba13088   \n",
       "1010   110242832049687111899  60415f44c6fcf1fddba13088   \n",
       "1011   102573936806592633340  60415f44c6fcf1fddba13088   \n",
       "...                      ...                       ...   \n",
       "94173  106814415980428503192  6048f72fb1a0aaee3eefa786   \n",
       "91420  104301434414218494589  6054b4836204e8cd294f2415   \n",
       "96531  111443382102929224866  6047a85e90b81483d31aceed   \n",
       "60847  117133145180165134330  6041ddf22e57ebdea29c6b12   \n",
       "83059  117480736433703204284  6050eb4cd8c08f462b93e0f6   \n",
       "\n",
       "       restaurant_profile_length  \n",
       "892                        21381  \n",
       "1018                       21381  \n",
       "1009                       21381  \n",
       "1010                       21381  \n",
       "1011                       21381  \n",
       "...                          ...  \n",
       "94173                          8  \n",
       "91420                          7  \n",
       "96531                          7  \n",
       "60847                          6  \n",
       "83059                          5  \n",
       "\n",
       "[98028 rows x 3 columns]"
      ]
     },
     "execution_count": 32,
     "metadata": {},
     "output_type": "execute_result"
    }
   ],
   "source": [
    "dm[['user_id','business_id','restaurant_profile_length']].sort_values(by='restaurant_profile_length',ascending=False)"
   ]
  },
  {
   "cell_type": "code",
   "execution_count": 47,
   "id": "3bfb37d3",
   "metadata": {},
   "outputs": [],
   "source": [
    "df_train,df_test=train_test_split(dm,train_size=0.8,random_state=42)\n",
    "df_train = df_train.reset_index()\n",
    "df_test = df_test.reset_index()"
   ]
  },
  {
   "cell_type": "code",
   "execution_count": 48,
   "id": "219c60d6",
   "metadata": {},
   "outputs": [
    {
     "data": {
      "text/plain": [
       "<AxesSubplot:>"
      ]
     },
     "execution_count": 48,
     "metadata": {},
     "output_type": "execute_result"
    },
    {
     "data": {
      "image/png": "[encoded data removed]",
      "text/plain": [
       "<Figure size 640x480 with 1 Axes>"
      ]
     },
     "metadata": {},
     "output_type": "display_data"
    }
   ],
   "source": [
    "df_train['rating'].hist()"
   ]
  },
  {
   "cell_type": "code",
   "execution_count": 49,
   "id": "c3552431",
   "metadata": {},
   "outputs": [
    {
     "data": {
      "text/plain": [
       "<AxesSubplot:>"
      ]
     },
     "execution_count": 49,
     "metadata": {},
     "output_type": "execute_result"
    },
    {
     "data": {
      "image/png": "[encoded data removed]",
      "text/plain": [
       "<Figure size 640x480 with 1 Axes>"
      ]
     },
     "metadata": {},
     "output_type": "display_data"
    }
   ],
   "source": [
    "df_test['rating'].hist()"
   ]
  },
  {
   "cell_type": "code",
   "execution_count": 52,
   "id": "d5df0764",
   "metadata": {},
   "outputs": [],
   "source": [
    "df_train_name = 'processed_training_data.csv'\n",
    "df_test_name = 'processed_testing_data.csv'\n",
    "\n",
    "outdir = './data'\n",
    "if not os.path.exists(outdir):\n",
    "    os.mkdir(outdir)\n",
    "    \n",
    "full1 = os.path.join(outdir, df_train_path)  \n",
    "full2 = os.path.join(outdir, df_test_path)\n",
    "\n",
    "df_train.to_csv(full1)\n",
    "df_test.to_csv(full2)"
   ]
  }
 ],
 "metadata": {
  "kernelspec": {
   "display_name": "Python 3 (ipykernel)",
   "language": "python",
   "name": "python3"
  },
  "language_info": {
   "codemirror_mode": {
    "name": "ipython",
    "version": 3
   },
   "file_extension": ".py",
   "mimetype": "text/x-python",
   "name": "python",
   "nbconvert_exporter": "python",
   "pygments_lexer": "ipython3",
   "version": "3.9.13"
  }
 },
 "nbformat": 4,
 "nbformat_minor": 5
}
