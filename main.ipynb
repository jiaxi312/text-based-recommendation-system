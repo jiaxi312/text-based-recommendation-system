{
 "cells": [
  {
   "cell_type": "code",
   "execution_count": 1,
   "metadata": {
    "collapsed": true,
    "ExecuteTime": {
     "start_time": "2023-04-23T12:01:21.002441Z",
     "end_time": "2023-04-23T12:01:23.412725Z"
    }
   },
   "outputs": [],
   "source": [
    "import tensorflow as tf\n",
    "\n",
    "import keras\n",
    "from keras.losses import cosine_similarity\n",
    "\n",
    "from models import TextFeatureExtractorLayer, GloveEmbeddingLayer\n",
    "from utils import GoogleRestaurantsReviewDataset"
   ]
  },
  {
   "cell_type": "markdown",
   "source": [
    "## Load the Train and Test Dataset"
   ],
   "metadata": {
    "collapsed": false
   }
  },
  {
   "cell_type": "code",
   "execution_count": 2,
   "outputs": [
    {
     "name": "stdout",
     "output_type": "stream",
     "text": [
      "Build Training data\n"
     ]
    },
    {
     "name": "stderr",
     "output_type": "stream",
     "text": [
      "78422it [01:50, 712.47it/s]\n"
     ]
    },
    {
     "name": "stdout",
     "output_type": "stream",
     "text": [
      "Build Testing data\n"
     ]
    },
    {
     "name": "stderr",
     "output_type": "stream",
     "text": [
      "19606it [00:15, 1298.85it/s]\n"
     ]
    },
    {
     "name": "stdout",
     "output_type": "stream",
     "text": [
      "Load training data\n",
      "Total (78422,) training data\n",
      "\n",
      "Load test data\n",
      "Total (19606,) test data\n",
      "\n"
     ]
    }
   ],
   "source": [
    "max_seq_length = 500\n",
    "dataset = GoogleRestaurantsReviewDataset(max_seq_length=max_seq_length)\n",
    "text_vectorize = dataset.text_vectorize\n",
    "\n",
    "print('Load training data')\n",
    "train_X_user, train_X_bus, train_y = dataset.load_train_or_test_dataset(train=True)\n",
    "print(f'Total {train_y.shape} training data\\n')\n",
    "\n",
    "print('Load test data')\n",
    "test_X_user, test_X_bus, test_y = dataset.load_train_or_test_dataset(train=False)\n",
    "print(f'Total {test_y.shape} test data\\n')"
   ],
   "metadata": {
    "collapsed": false,
    "ExecuteTime": {
     "start_time": "2023-04-23T12:01:23.414504Z",
     "end_time": "2023-04-23T12:03:28.845510Z"
    }
   }
  },
  {
   "cell_type": "markdown",
   "source": [
    "## Build the Model"
   ],
   "metadata": {
    "collapsed": false
   }
  },
  {
   "cell_type": "code",
   "execution_count": 3,
   "outputs": [
    {
     "name": "stdout",
     "output_type": "stream",
     "text": [
      "Build model\n",
      "Metal device set to: Apple M1 Max\n"
     ]
    },
    {
     "name": "stderr",
     "output_type": "stream",
     "text": [
      "2023-04-23 12:04:19.956369: I tensorflow/core/common_runtime/pluggable_device/pluggable_device_factory.cc:305] Could not identify NUMA node of platform GPU ID 0, defaulting to 0. Your kernel may not have been built with NUMA support.\n",
      "2023-04-23 12:04:19.956510: I tensorflow/core/common_runtime/pluggable_device/pluggable_device_factory.cc:271] Created TensorFlow device (/job:localhost/replica:0/task:0/device:GPU:0 with 0 MB memory) -> physical PluggableDevice (device: 0, name: METAL, pci bus id: <undefined>)\n"
     ]
    },
    {
     "name": "stdout",
     "output_type": "stream",
     "text": [
      "Model: \"model\"\n",
      "__________________________________________________________________________________________________\n",
      " Layer (type)                   Output Shape         Param #     Connected to                     \n",
      "==================================================================================================\n",
      " input_1 (InputLayer)           [(None, None)]       0           []                               \n",
      "                                                                                                  \n",
      " input_3 (InputLayer)           [(None, None)]       0           []                               \n",
      "                                                                                                  \n",
      " glove_embedding_layer (GloveEm  (None, None, 300)   10695900    ['input_1[0][0]',                \n",
      " beddingLayer)                                                    'input_3[0][0]']                \n",
      "                                                                                                  \n",
      " text_feature_extractor_layer (  (None, 64)          2890012     ['glove_embedding_layer[0][0]']  \n",
      " TextFeatureExtractorLayer)                                                                       \n",
      "                                                                                                  \n",
      " text_feature_extractor_layer_1  (None, 64)          2890012     ['glove_embedding_layer[1][0]']  \n",
      "  (TextFeatureExtractorLayer)                                                                     \n",
      "                                                                                                  \n",
      " tf.math.l2_normalize (TFOpLamb  (None, 64)          0           ['text_feature_extractor_layer[0]\n",
      " da)                                                             [0]']                            \n",
      "                                                                                                  \n",
      " tf.math.l2_normalize_1 (TFOpLa  (None, 64)          0           ['text_feature_extractor_layer_1[\n",
      " mbda)                                                           0][0]']                          \n",
      "                                                                                                  \n",
      " tf.math.multiply (TFOpLambda)  (None, 64)           0           ['tf.math.l2_normalize[0][0]',   \n",
      "                                                                  'tf.math.l2_normalize_1[0][0]'] \n",
      "                                                                                                  \n",
      " tf.math.reduce_sum (TFOpLambda  (None,)             0           ['tf.math.multiply[0][0]']       \n",
      " )                                                                                                \n",
      "                                                                                                  \n",
      " tf.math.negative (TFOpLambda)  (None,)              0           ['tf.math.reduce_sum[0][0]']     \n",
      "                                                                                                  \n",
      " tf.math.negative_1 (TFOpLambda  (None,)             0           ['tf.math.negative[0][0]']       \n",
      " )                                                                                                \n",
      "                                                                                                  \n",
      "==================================================================================================\n",
      "Total params: 16,475,924\n",
      "Trainable params: 5,744,976\n",
      "Non-trainable params: 10,730,948\n",
      "__________________________________________________________________________________________________\n"
     ]
    }
   ],
   "source": [
    "print('Build model')\n",
    "embedding = GloveEmbeddingLayer(num_tokens=len(text_vectorize),\n",
    "                                vocabulary_dict=text_vectorize.vocabulary)\n",
    "\n",
    "user_inputs = keras.Input(shape=(None,), dtype=\"int64\")\n",
    "x = embedding(user_inputs)\n",
    "user_outputs = TextFeatureExtractorLayer(\n",
    "    input_dim=(dataset.max_seq_length, embedding.embed_dim), output_dim=64)(x)\n",
    "\n",
    "bus_inputs = keras.Input(shape=(None,), dtype=\"int64\")\n",
    "y = embedding(bus_inputs)\n",
    "bus_outputs = TextFeatureExtractorLayer(\n",
    "    input_dim=(dataset.max_seq_length, embedding.embed_dim), output_dim=64)(y)\n",
    "\n",
    "outputs = -cosine_similarity(user_outputs, bus_outputs, axis=1)\n",
    "\n",
    "model = keras.Model([user_inputs, bus_inputs], outputs)\n",
    "model.compile(optimizer='rmsprop', loss='mse')\n",
    "model.summary()"
   ],
   "metadata": {
    "collapsed": false,
    "ExecuteTime": {
     "start_time": "2023-04-23T12:03:28.848901Z",
     "end_time": "2023-04-23T12:04:22.048217Z"
    }
   }
  },
  {
   "cell_type": "markdown",
   "source": [
    "### Load Trained Params"
   ],
   "metadata": {
    "collapsed": false
   }
  },
  {
   "cell_type": "code",
   "execution_count": 4,
   "outputs": [
    {
     "data": {
      "text/plain": "<tensorflow.python.training.tracking.util.CheckpointLoadStatus at 0x3147d66d0>"
     },
     "execution_count": 4,
     "metadata": {},
     "output_type": "execute_result"
    }
   ],
   "source": [
    "checkpoint_path = \"./training_2/cp.ckpt\"\n",
    "model.load_weights(checkpoint_path)"
   ],
   "metadata": {
    "collapsed": false,
    "ExecuteTime": {
     "start_time": "2023-04-23T12:04:22.055728Z",
     "end_time": "2023-04-23T12:04:24.767859Z"
    }
   }
  },
  {
   "cell_type": "markdown",
   "source": [
    "## Predict"
   ],
   "metadata": {
    "collapsed": false
   }
  },
  {
   "cell_type": "code",
   "execution_count": 5,
   "outputs": [
    {
     "name": "stderr",
     "output_type": "stream",
     "text": [
      "2023-04-23 12:04:25.183278: W tensorflow/core/platform/profile_utils/cpu_utils.cc:128] Failed to get CPU frequency: 0 Hz\n",
      "2023-04-23 12:04:25.804237: I tensorflow/core/grappler/optimizers/custom_graph_optimizer_registry.cc:113] Plugin optimizer for device_type GPU is enabled.\n"
     ]
    },
    {
     "name": "stdout",
     "output_type": "stream",
     "text": [
      "4/4 [==============================] - 9s 1s/step\n",
      "predicted: 0.0000, actual: -1.0000\n",
      "predicted: 0.6140, actual: 1.0000\n",
      "predicted: 0.0139, actual: -1.0000\n",
      "predicted: 0.2976, actual: 1.0000\n",
      "predicted: 0.0000, actual: -1.0000\n",
      "predicted: 0.3293, actual: -1.0000\n",
      "predicted: 0.6051, actual: 1.0000\n",
      "predicted: 0.5342, actual: 1.0000\n",
      "predicted: 0.2366, actual: -1.0000\n",
      "predicted: 0.0000, actual: 1.0000\n",
      "predicted: 0.3357, actual: -1.0000\n",
      "predicted: 0.0000, actual: -1.0000\n",
      "predicted: 0.0000, actual: -1.0000\n",
      "predicted: 0.0000, actual: 1.0000\n",
      "predicted: 0.7817, actual: 1.0000\n",
      "predicted: 0.7039, actual: 1.0000\n",
      "predicted: 0.1982, actual: 1.0000\n",
      "predicted: 0.0000, actual: 1.0000\n",
      "predicted: 0.3506, actual: -1.0000\n",
      "predicted: 0.0000, actual: 1.0000\n",
      "predicted: 0.6307, actual: -1.0000\n",
      "predicted: 0.2608, actual: -1.0000\n",
      "predicted: 0.5730, actual: -1.0000\n",
      "predicted: 0.0000, actual: -1.0000\n",
      "predicted: 0.7568, actual: 1.0000\n",
      "predicted: 0.7010, actual: 1.0000\n",
      "predicted: 0.8220, actual: -1.0000\n",
      "predicted: 0.0744, actual: 1.0000\n",
      "predicted: 0.2582, actual: -1.0000\n",
      "predicted: 0.5568, actual: -1.0000\n",
      "predicted: 0.0000, actual: -1.0000\n",
      "predicted: 0.4955, actual: 1.0000\n",
      "predicted: 0.7054, actual: 1.0000\n",
      "predicted: 0.2788, actual: -1.0000\n",
      "predicted: 0.0000, actual: -1.0000\n",
      "predicted: 0.4825, actual: -1.0000\n",
      "predicted: 0.6444, actual: 1.0000\n",
      "predicted: 0.7197, actual: 1.0000\n",
      "predicted: 0.7908, actual: -1.0000\n",
      "predicted: 0.0000, actual: 1.0000\n",
      "predicted: 0.0384, actual: 1.0000\n",
      "predicted: 0.2513, actual: 1.0000\n",
      "predicted: 0.3842, actual: -1.0000\n",
      "predicted: 0.0040, actual: -1.0000\n",
      "predicted: 0.6472, actual: 1.0000\n",
      "predicted: 0.2272, actual: 1.0000\n",
      "predicted: 0.6968, actual: -1.0000\n",
      "predicted: 0.2574, actual: -1.0000\n",
      "predicted: 0.2824, actual: 1.0000\n",
      "predicted: 0.8271, actual: -1.0000\n",
      "predicted: 0.0015, actual: -1.0000\n",
      "predicted: 0.4836, actual: -1.0000\n",
      "predicted: 0.5057, actual: 1.0000\n",
      "predicted: 0.0000, actual: -1.0000\n",
      "predicted: 0.4116, actual: -1.0000\n",
      "predicted: 0.4038, actual: 1.0000\n",
      "predicted: 0.4635, actual: 1.0000\n",
      "predicted: 0.6030, actual: 1.0000\n",
      "predicted: 0.0000, actual: 1.0000\n",
      "predicted: 0.4749, actual: -1.0000\n",
      "predicted: 0.7032, actual: -1.0000\n",
      "predicted: 0.5710, actual: 1.0000\n",
      "predicted: 0.7507, actual: 1.0000\n",
      "predicted: 0.0000, actual: 1.0000\n",
      "predicted: 0.6525, actual: 1.0000\n",
      "predicted: 0.0000, actual: -1.0000\n",
      "predicted: 0.6787, actual: 1.0000\n",
      "predicted: 0.0091, actual: 1.0000\n",
      "predicted: 0.5799, actual: 1.0000\n",
      "predicted: 0.0000, actual: 1.0000\n",
      "predicted: 0.4112, actual: 1.0000\n",
      "predicted: 0.0458, actual: -1.0000\n",
      "predicted: 0.4016, actual: 1.0000\n",
      "predicted: 0.6491, actual: -1.0000\n",
      "predicted: 0.4765, actual: 1.0000\n",
      "predicted: 0.4516, actual: 1.0000\n",
      "predicted: 0.6440, actual: 1.0000\n",
      "predicted: 0.5338, actual: 1.0000\n",
      "predicted: 0.5162, actual: 1.0000\n",
      "predicted: 0.0582, actual: 1.0000\n",
      "predicted: 0.5197, actual: 1.0000\n",
      "predicted: 0.4280, actual: 1.0000\n",
      "predicted: 0.0387, actual: 1.0000\n",
      "predicted: 0.0270, actual: -1.0000\n",
      "predicted: 0.7218, actual: 1.0000\n",
      "predicted: 0.0000, actual: 1.0000\n",
      "predicted: 0.6723, actual: 1.0000\n",
      "predicted: 0.5422, actual: 1.0000\n",
      "predicted: 0.5924, actual: 1.0000\n",
      "predicted: 0.7061, actual: -1.0000\n",
      "predicted: 0.7464, actual: 1.0000\n",
      "predicted: 0.3056, actual: 1.0000\n",
      "predicted: 0.6034, actual: 1.0000\n",
      "predicted: 0.5833, actual: 1.0000\n",
      "predicted: 0.3839, actual: 1.0000\n",
      "predicted: 0.0000, actual: 1.0000\n",
      "predicted: 0.5112, actual: 1.0000\n",
      "predicted: 0.0972, actual: -1.0000\n",
      "predicted: 0.2814, actual: 1.0000\n",
      "predicted: 0.4976, actual: 1.0000\n"
     ]
    }
   ],
   "source": [
    "num_samples = 100\n",
    "predicted = model.predict([test_X_user[:num_samples], test_X_bus[:num_samples]])\n",
    "for i in range(num_samples):\n",
    "    print('predicted: %.4f, actual: %.4f' % (predicted[i], test_y[i]))"
   ],
   "metadata": {
    "collapsed": false,
    "ExecuteTime": {
     "start_time": "2023-04-23T12:04:24.771833Z",
     "end_time": "2023-04-23T12:04:33.749011Z"
    }
   }
  },
  {
   "cell_type": "markdown",
   "source": [
    "# Evaluation"
   ],
   "metadata": {
    "collapsed": false
   }
  },
  {
   "cell_type": "markdown",
   "source": [
    "## Evaluating on Training Data"
   ],
   "metadata": {
    "collapsed": false
   }
  },
  {
   "cell_type": "code",
   "execution_count": 6,
   "outputs": [],
   "source": [
    "from tqdm import tqdm\n",
    "import numpy as np"
   ],
   "metadata": {
    "collapsed": false,
    "ExecuteTime": {
     "start_time": "2023-04-23T12:04:33.749753Z",
     "end_time": "2023-04-23T12:04:33.751171Z"
    }
   }
  },
  {
   "cell_type": "code",
   "execution_count": 28,
   "outputs": [
    {
     "name": "stdout",
     "output_type": "stream",
     "text": [
      "1/1 [==============================] - 0s 83ms/step\n"
     ]
    },
    {
     "data": {
      "text/plain": "1.23896934e-11"
     },
     "execution_count": 28,
     "metadata": {},
     "output_type": "execute_result"
    }
   ],
   "source": [
    "model.predict([train_X_user[0:1], train_X_bus[0:1]])[0]"
   ],
   "metadata": {
    "collapsed": false,
    "ExecuteTime": {
     "start_time": "2023-04-23T12:15:35.481224Z",
     "end_time": "2023-04-23T12:15:35.770729Z"
    }
   }
  },
  {
   "cell_type": "code",
   "execution_count": 40,
   "outputs": [
    {
     "name": "stdout",
     "output_type": "stream",
     "text": [
      "313/313 [==============================] - 32s 103ms/step\n"
     ]
    }
   ],
   "source": [
    "predict = model.predict([np.vstack([[train_X_user[3]]*10000]), train_X_bus[:10000]])"
   ],
   "metadata": {
    "collapsed": false,
    "ExecuteTime": {
     "start_time": "2023-04-23T12:28:59.958737Z",
     "end_time": "2023-04-23T12:29:32.461639Z"
    }
   }
  },
  {
   "cell_type": "code",
   "execution_count": 41,
   "outputs": [
    {
     "data": {
      "text/plain": "array([0.58466494, 0.58466494, 0.58466494, ..., 0.58466494, 0.58466494,\n       0.58466494], dtype=float32)"
     },
     "execution_count": 41,
     "metadata": {},
     "output_type": "execute_result"
    }
   ],
   "source": [
    "np.sort(predict)"
   ],
   "metadata": {
    "collapsed": false,
    "ExecuteTime": {
     "start_time": "2023-04-23T12:29:34.557580Z",
     "end_time": "2023-04-23T12:29:34.560564Z"
    }
   }
  },
  {
   "cell_type": "code",
   "execution_count": null,
   "outputs": [],
   "source": [],
   "metadata": {
    "collapsed": false
   }
  }
 ],
 "metadata": {
  "kernelspec": {
   "display_name": "Python 3",
   "language": "python",
   "name": "python3"
  },
  "language_info": {
   "codemirror_mode": {
    "name": "ipython",
    "version": 2
   },
   "file_extension": ".py",
   "mimetype": "text/x-python",
   "name": "python",
   "nbconvert_exporter": "python",
   "pygments_lexer": "ipython2",
   "version": "2.7.6"
  }
 },
 "nbformat": 4,
 "nbformat_minor": 0
}
