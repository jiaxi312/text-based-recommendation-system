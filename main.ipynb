{
 "cells": [
  {
   "cell_type": "code",
   "execution_count": 1,
   "metadata": {
    "collapsed": true,
    "ExecuteTime": {
     "start_time": "2023-04-20T18:05:50.536351Z",
     "end_time": "2023-04-20T18:05:54.083318Z"
    }
   },
   "outputs": [],
   "source": [
    "import tensorflow as tf\n",
    "\n",
    "import keras\n",
    "from keras.losses import cosine_similarity\n",
    "\n",
    "from models import TextFeatureExtractorLayer, GloveEmbeddingLayer\n",
    "from utils import GoogleRestaurantsReviewDataset"
   ]
  },
  {
   "cell_type": "markdown",
   "source": [
    "## Load the Train and Test Dataset"
   ],
   "metadata": {
    "collapsed": false
   }
  },
  {
   "cell_type": "code",
   "execution_count": 2,
   "outputs": [
    {
     "name": "stdout",
     "output_type": "stream",
     "text": [
      "Build Training data\n"
     ]
    },
    {
     "name": "stderr",
     "output_type": "stream",
     "text": [
      "78422it [01:50, 711.91it/s]\n"
     ]
    },
    {
     "name": "stdout",
     "output_type": "stream",
     "text": [
      "Build Testing data\n"
     ]
    },
    {
     "name": "stderr",
     "output_type": "stream",
     "text": [
      "19606it [00:15, 1302.48it/s]\n"
     ]
    },
    {
     "name": "stdout",
     "output_type": "stream",
     "text": [
      "Load training data\n",
      "Total (78422,) training data\n",
      "\n",
      "Load test data\n",
      "Total (19606,) test data\n",
      "\n"
     ]
    }
   ],
   "source": [
    "max_seq_length = 500\n",
    "dataset = GoogleRestaurantsReviewDataset(max_seq_length=max_seq_length)\n",
    "text_vectorize = dataset.text_vectorize\n",
    "\n",
    "print('Load training data')\n",
    "train_X_user, train_X_bus, train_y = dataset.load_train_or_test_dataset(train=True)\n",
    "print(f'Total {train_y.shape} training data\\n')\n",
    "\n",
    "print('Load test data')\n",
    "test_X_user, test_X_bus, test_y = dataset.load_train_or_test_dataset(train=False)\n",
    "print(f'Total {test_y.shape} test data\\n')"
   ],
   "metadata": {
    "collapsed": false,
    "ExecuteTime": {
     "start_time": "2023-04-20T18:06:50.759703Z",
     "end_time": "2023-04-20T18:08:56.249281Z"
    }
   }
  },
  {
   "cell_type": "markdown",
   "source": [
    "## Build the Model"
   ],
   "metadata": {
    "collapsed": false
   }
  },
  {
   "cell_type": "code",
   "execution_count": 6,
   "outputs": [
    {
     "name": "stdout",
     "output_type": "stream",
     "text": [
      "Build model\n",
      "Model: \"model_1\"\n",
      "__________________________________________________________________________________________________\n",
      " Layer (type)                   Output Shape         Param #     Connected to                     \n",
      "==================================================================================================\n",
      " input_5 (InputLayer)           [(None, None)]       0           []                               \n",
      "                                                                                                  \n",
      " input_7 (InputLayer)           [(None, None)]       0           []                               \n",
      "                                                                                                  \n",
      " glove_embedding_layer_1 (Glove  (None, None, 300)   10695900    ['input_5[0][0]',                \n",
      " EmbeddingLayer)                                                  'input_7[0][0]']                \n",
      "                                                                                                  \n",
      " text_feature_extractor_layer_2  (None, 64)          2890012     ['glove_embedding_layer_1[0][0]']\n",
      "  (TextFeatureExtractorLayer)                                                                     \n",
      "                                                                                                  \n",
      " text_feature_extractor_layer_3  (None, 64)          2890012     ['glove_embedding_layer_1[1][0]']\n",
      "  (TextFeatureExtractorLayer)                                                                     \n",
      "                                                                                                  \n",
      " tf.math.l2_normalize_2 (TFOpLa  (None, 64)          0           ['text_feature_extractor_layer_2[\n",
      " mbda)                                                           0][0]']                          \n",
      "                                                                                                  \n",
      " tf.math.l2_normalize_3 (TFOpLa  (None, 64)          0           ['text_feature_extractor_layer_3[\n",
      " mbda)                                                           0][0]']                          \n",
      "                                                                                                  \n",
      " tf.math.multiply_1 (TFOpLambda  (None, 64)          0           ['tf.math.l2_normalize_2[0][0]', \n",
      " )                                                                'tf.math.l2_normalize_3[0][0]'] \n",
      "                                                                                                  \n",
      " tf.math.reduce_sum_1 (TFOpLamb  (None,)             0           ['tf.math.multiply_1[0][0]']     \n",
      " da)                                                                                              \n",
      "                                                                                                  \n",
      " tf.math.negative_2 (TFOpLambda  (None,)             0           ['tf.math.reduce_sum_1[0][0]']   \n",
      " )                                                                                                \n",
      "                                                                                                  \n",
      " tf.math.negative_3 (TFOpLambda  (None,)             0           ['tf.math.negative_2[0][0]']     \n",
      " )                                                                                                \n",
      "                                                                                                  \n",
      "==================================================================================================\n",
      "Total params: 16,475,924\n",
      "Trainable params: 5,744,976\n",
      "Non-trainable params: 10,730,948\n",
      "__________________________________________________________________________________________________\n"
     ]
    }
   ],
   "source": [
    "print('Build model')\n",
    "embedding = GloveEmbeddingLayer(num_tokens=len(text_vectorize),\n",
    "                                vocabulary_dict=text_vectorize.vocabulary)\n",
    "\n",
    "user_inputs = keras.Input(shape=(None,), dtype=\"int64\")\n",
    "x = embedding(user_inputs)\n",
    "user_outputs = TextFeatureExtractorLayer(\n",
    "    input_dim=(dataset.max_seq_length, embedding.embed_dim), output_dim=64)(x)\n",
    "\n",
    "bus_inputs = keras.Input(shape=(None,), dtype=\"int64\")\n",
    "y = embedding(bus_inputs)\n",
    "bus_outputs = TextFeatureExtractorLayer(\n",
    "    input_dim=(dataset.max_seq_length, embedding.embed_dim), output_dim=64)(y)\n",
    "\n",
    "outputs = -cosine_similarity(user_outputs, bus_outputs, axis=1)\n",
    "\n",
    "model = keras.Model([user_inputs, bus_inputs], outputs)\n",
    "model.compile(optimizer='rmsprop', loss='mse')\n",
    "model.summary()"
   ],
   "metadata": {
    "collapsed": false,
    "ExecuteTime": {
     "start_time": "2023-04-20T18:12:16.760412Z",
     "end_time": "2023-04-20T18:13:08.908898Z"
    }
   }
  },
  {
   "cell_type": "markdown",
   "source": [
    "### Load Trained Params"
   ],
   "metadata": {
    "collapsed": false
   }
  },
  {
   "cell_type": "code",
   "execution_count": 7,
   "outputs": [
    {
     "data": {
      "text/plain": "<tensorflow.python.training.tracking.util.CheckpointLoadStatus at 0x3205b0eb0>"
     },
     "execution_count": 7,
     "metadata": {},
     "output_type": "execute_result"
    }
   ],
   "source": [
    "checkpoint_path = \"./training_2/cp.ckpt\"\n",
    "model.load_weights(checkpoint_path)"
   ],
   "metadata": {
    "collapsed": false,
    "ExecuteTime": {
     "start_time": "2023-04-20T18:13:11.415208Z",
     "end_time": "2023-04-20T18:13:14.110533Z"
    }
   }
  },
  {
   "cell_type": "markdown",
   "source": [
    "## Predict"
   ],
   "metadata": {
    "collapsed": false
   }
  },
  {
   "cell_type": "code",
   "execution_count": 10,
   "outputs": [
    {
     "name": "stdout",
     "output_type": "stream",
     "text": [
      "4/4 [==============================] - 0s 87ms/step\n",
      "predicted: 0.0000, actual: -1.0000\n",
      "predicted: 0.6140, actual: 1.0000\n",
      "predicted: 0.0139, actual: -1.0000\n",
      "predicted: 0.2976, actual: 1.0000\n",
      "predicted: 0.0000, actual: -1.0000\n",
      "predicted: 0.3293, actual: -1.0000\n",
      "predicted: 0.6051, actual: 1.0000\n",
      "predicted: 0.5342, actual: 1.0000\n",
      "predicted: 0.2366, actual: -1.0000\n",
      "predicted: 0.0000, actual: 1.0000\n",
      "predicted: 0.3357, actual: -1.0000\n",
      "predicted: 0.0000, actual: -1.0000\n",
      "predicted: 0.0000, actual: -1.0000\n",
      "predicted: 0.0000, actual: 1.0000\n",
      "predicted: 0.7817, actual: 1.0000\n",
      "predicted: 0.7039, actual: 1.0000\n",
      "predicted: 0.1982, actual: 1.0000\n",
      "predicted: 0.0000, actual: 1.0000\n",
      "predicted: 0.3506, actual: -1.0000\n",
      "predicted: 0.0000, actual: 1.0000\n",
      "predicted: 0.6307, actual: -1.0000\n",
      "predicted: 0.2608, actual: -1.0000\n",
      "predicted: 0.5730, actual: -1.0000\n",
      "predicted: 0.0000, actual: -1.0000\n",
      "predicted: 0.7568, actual: 1.0000\n",
      "predicted: 0.7010, actual: 1.0000\n",
      "predicted: 0.8220, actual: -1.0000\n",
      "predicted: 0.0744, actual: 1.0000\n",
      "predicted: 0.2582, actual: -1.0000\n",
      "predicted: 0.5568, actual: -1.0000\n",
      "predicted: 0.0000, actual: -1.0000\n",
      "predicted: 0.4955, actual: 1.0000\n",
      "predicted: 0.7054, actual: 1.0000\n",
      "predicted: 0.2788, actual: -1.0000\n",
      "predicted: 0.0000, actual: -1.0000\n",
      "predicted: 0.4825, actual: -1.0000\n",
      "predicted: 0.6444, actual: 1.0000\n",
      "predicted: 0.7197, actual: 1.0000\n",
      "predicted: 0.7908, actual: -1.0000\n",
      "predicted: 0.0000, actual: 1.0000\n",
      "predicted: 0.0384, actual: 1.0000\n",
      "predicted: 0.2513, actual: 1.0000\n",
      "predicted: 0.3842, actual: -1.0000\n",
      "predicted: 0.0040, actual: -1.0000\n",
      "predicted: 0.6472, actual: 1.0000\n",
      "predicted: 0.2272, actual: 1.0000\n",
      "predicted: 0.6968, actual: -1.0000\n",
      "predicted: 0.2574, actual: -1.0000\n",
      "predicted: 0.2824, actual: 1.0000\n",
      "predicted: 0.8271, actual: -1.0000\n",
      "predicted: 0.0015, actual: -1.0000\n",
      "predicted: 0.4836, actual: -1.0000\n",
      "predicted: 0.5057, actual: 1.0000\n",
      "predicted: 0.0000, actual: -1.0000\n",
      "predicted: 0.4116, actual: -1.0000\n",
      "predicted: 0.4038, actual: 1.0000\n",
      "predicted: 0.4635, actual: 1.0000\n",
      "predicted: 0.6030, actual: 1.0000\n",
      "predicted: 0.0000, actual: 1.0000\n",
      "predicted: 0.4749, actual: -1.0000\n",
      "predicted: 0.7032, actual: -1.0000\n",
      "predicted: 0.5710, actual: 1.0000\n",
      "predicted: 0.7507, actual: 1.0000\n",
      "predicted: 0.0000, actual: 1.0000\n",
      "predicted: 0.6525, actual: 1.0000\n",
      "predicted: 0.0000, actual: -1.0000\n",
      "predicted: 0.6787, actual: 1.0000\n",
      "predicted: 0.0091, actual: 1.0000\n",
      "predicted: 0.5799, actual: 1.0000\n",
      "predicted: 0.0000, actual: 1.0000\n",
      "predicted: 0.4112, actual: 1.0000\n",
      "predicted: 0.0458, actual: -1.0000\n",
      "predicted: 0.4016, actual: 1.0000\n",
      "predicted: 0.6491, actual: -1.0000\n",
      "predicted: 0.4765, actual: 1.0000\n",
      "predicted: 0.4516, actual: 1.0000\n",
      "predicted: 0.6440, actual: 1.0000\n",
      "predicted: 0.5338, actual: 1.0000\n",
      "predicted: 0.5162, actual: 1.0000\n",
      "predicted: 0.0582, actual: 1.0000\n",
      "predicted: 0.5197, actual: 1.0000\n",
      "predicted: 0.4280, actual: 1.0000\n",
      "predicted: 0.0387, actual: 1.0000\n",
      "predicted: 0.0270, actual: -1.0000\n",
      "predicted: 0.7218, actual: 1.0000\n",
      "predicted: 0.0000, actual: 1.0000\n",
      "predicted: 0.6723, actual: 1.0000\n",
      "predicted: 0.5422, actual: 1.0000\n",
      "predicted: 0.5924, actual: 1.0000\n",
      "predicted: 0.7061, actual: -1.0000\n",
      "predicted: 0.7464, actual: 1.0000\n",
      "predicted: 0.3056, actual: 1.0000\n",
      "predicted: 0.6034, actual: 1.0000\n",
      "predicted: 0.5833, actual: 1.0000\n",
      "predicted: 0.3839, actual: 1.0000\n",
      "predicted: 0.0000, actual: 1.0000\n",
      "predicted: 0.5112, actual: 1.0000\n",
      "predicted: 0.0972, actual: -1.0000\n",
      "predicted: 0.2814, actual: 1.0000\n",
      "predicted: 0.4976, actual: 1.0000\n"
     ]
    }
   ],
   "source": [
    "num_samples = 100\n",
    "predicted = model.predict([test_X_user[:num_samples], test_X_bus[:num_samples]])\n",
    "for i in range(num_samples):\n",
    "    print('predicted: %.4f, actual: %.4f' % (predicted[i], test_y[i]))"
   ],
   "metadata": {
    "collapsed": false,
    "ExecuteTime": {
     "start_time": "2023-04-20T18:16:43.329159Z",
     "end_time": "2023-04-20T18:16:43.866923Z"
    }
   }
  },
  {
   "cell_type": "code",
   "execution_count": null,
   "outputs": [],
   "source": [],
   "metadata": {
    "collapsed": false
   }
  }
 ],
 "metadata": {
  "kernelspec": {
   "display_name": "Python 3",
   "language": "python",
   "name": "python3"
  },
  "language_info": {
   "codemirror_mode": {
    "name": "ipython",
    "version": 2
   },
   "file_extension": ".py",
   "mimetype": "text/x-python",
   "name": "python",
   "nbconvert_exporter": "python",
   "pygments_lexer": "ipython2",
   "version": "2.7.6"
  }
 },
 "nbformat": 4,
 "nbformat_minor": 0
}
