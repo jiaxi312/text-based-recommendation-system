{
 "cells": [
  {
   "cell_type": "code",
   "execution_count": 1,
   "metadata": {
    "ExecuteTime": {
     "end_time": "2023-04-23T17:39:51.825336Z",
     "start_time": "2023-04-23T17:39:49.500498Z"
    },
    "collapsed": true
   },
   "outputs": [],
   "source": [
    "import tensorflow as tf\n",
    "\n",
    "import keras\n",
    "from keras.losses import cosine_similarity\n",
    "\n",
    "from models import TextFeatureExtractorLayer, GloveEmbeddingLayer\n",
    "from utils import GoogleRestaurantsReviewDataset"
   ]
  },
  {
   "cell_type": "markdown",
   "metadata": {},
   "source": [
    "## Load the Train and Test Dataset"
   ]
  },
  {
   "cell_type": "code",
   "execution_count": 2,
   "metadata": {
    "ExecuteTime": {
     "end_time": "2023-04-23T17:41:55.793699Z",
     "start_time": "2023-04-23T17:39:51.826205Z"
    }
   },
   "outputs": [
    {
     "name": "stdout",
     "output_type": "stream",
     "text": [
      "Build Training data\n"
     ]
    },
    {
     "name": "stderr",
     "output_type": "stream",
     "text": [
      "78422it [01:49, 719.07it/s]\n"
     ]
    },
    {
     "name": "stdout",
     "output_type": "stream",
     "text": [
      "Build Testing data\n"
     ]
    },
    {
     "name": "stderr",
     "output_type": "stream",
     "text": [
      "19606it [00:14, 1336.75it/s]\n"
     ]
    },
    {
     "name": "stdout",
     "output_type": "stream",
     "text": [
      "Load training data\n",
      "Total (78422,) training data\n",
      "\n",
      "Load test data\n",
      "Total (19606,) test data\n",
      "\n"
     ]
    }
   ],
   "source": [
    "max_seq_length = 500\n",
    "dataset = GoogleRestaurantsReviewDataset(max_seq_length=max_seq_length)\n",
    "text_vectorize = dataset.text_vectorize\n",
    "\n",
    "print('Load training data')\n",
    "train_X_user, train_X_bus, train_y = dataset.load_train_or_test_dataset(train=True)\n",
    "print(f'Total {train_y.shape} training data\\n')\n",
    "\n",
    "print('Load test data')\n",
    "test_X_user, test_X_bus, test_y = dataset.load_train_or_test_dataset(train=False)\n",
    "print(f'Total {test_y.shape} test data\\n')"
   ]
  },
  {
   "cell_type": "markdown",
   "metadata": {},
   "source": [
    "## Build the Model"
   ]
  },
  {
   "cell_type": "code",
   "execution_count": 3,
   "metadata": {
    "ExecuteTime": {
     "end_time": "2023-04-23T17:42:47.633949Z",
     "start_time": "2023-04-23T17:41:55.795454Z"
    }
   },
   "outputs": [
    {
     "name": "stdout",
     "output_type": "stream",
     "text": [
      "Build model\n",
      "Metal device set to: Apple M1 Max\n"
     ]
    },
    {
     "name": "stderr",
     "output_type": "stream",
     "text": [
      "2023-04-23 17:42:45.565149: I tensorflow/core/common_runtime/pluggable_device/pluggable_device_factory.cc:305] Could not identify NUMA node of platform GPU ID 0, defaulting to 0. Your kernel may not have been built with NUMA support.\n",
      "2023-04-23 17:42:45.565714: I tensorflow/core/common_runtime/pluggable_device/pluggable_device_factory.cc:271] Created TensorFlow device (/job:localhost/replica:0/task:0/device:GPU:0 with 0 MB memory) -> physical PluggableDevice (device: 0, name: METAL, pci bus id: <undefined>)\n"
     ]
    },
    {
     "name": "stdout",
     "output_type": "stream",
     "text": [
      "Model: \"model\"\n",
      "__________________________________________________________________________________________________\n",
      " Layer (type)                   Output Shape         Param #     Connected to                     \n",
      "==================================================================================================\n",
      " input_1 (InputLayer)           [(None, None)]       0           []                               \n",
      "                                                                                                  \n",
      " input_3 (InputLayer)           [(None, None)]       0           []                               \n",
      "                                                                                                  \n",
      " glove_embedding_layer (GloveEm  (None, None, 300)   10695900    ['input_1[0][0]',                \n",
      " beddingLayer)                                                    'input_3[0][0]']                \n",
      "                                                                                                  \n",
      " text_feature_extractor_layer (  (None, 64)          2890012     ['glove_embedding_layer[0][0]']  \n",
      " TextFeatureExtractorLayer)                                                                       \n",
      "                                                                                                  \n",
      " text_feature_extractor_layer_1  (None, 64)          2890012     ['glove_embedding_layer[1][0]']  \n",
      "  (TextFeatureExtractorLayer)                                                                     \n",
      "                                                                                                  \n",
      " tf.math.l2_normalize (TFOpLamb  (None, 64)          0           ['text_feature_extractor_layer[0]\n",
      " da)                                                             [0]']                            \n",
      "                                                                                                  \n",
      " tf.math.l2_normalize_1 (TFOpLa  (None, 64)          0           ['text_feature_extractor_layer_1[\n",
      " mbda)                                                           0][0]']                          \n",
      "                                                                                                  \n",
      " tf.math.multiply (TFOpLambda)  (None, 64)           0           ['tf.math.l2_normalize[0][0]',   \n",
      "                                                                  'tf.math.l2_normalize_1[0][0]'] \n",
      "                                                                                                  \n",
      " tf.math.reduce_sum (TFOpLambda  (None,)             0           ['tf.math.multiply[0][0]']       \n",
      " )                                                                                                \n",
      "                                                                                                  \n",
      " tf.math.negative (TFOpLambda)  (None,)              0           ['tf.math.reduce_sum[0][0]']     \n",
      "                                                                                                  \n",
      " tf.math.negative_1 (TFOpLambda  (None,)             0           ['tf.math.negative[0][0]']       \n",
      " )                                                                                                \n",
      "                                                                                                  \n",
      "==================================================================================================\n",
      "Total params: 16,475,924\n",
      "Trainable params: 5,744,976\n",
      "Non-trainable params: 10,730,948\n",
      "__________________________________________________________________________________________________\n"
     ]
    }
   ],
   "source": [
    "print('Build model')\n",
    "embedding = GloveEmbeddingLayer(num_tokens=len(text_vectorize),\n",
    "                                vocabulary_dict=text_vectorize.vocabulary)\n",
    "\n",
    "user_inputs = keras.Input(shape=(None,), dtype=\"int64\")\n",
    "x = embedding(user_inputs)\n",
    "user_outputs = TextFeatureExtractorLayer(\n",
    "    input_dim=(dataset.max_seq_length, embedding.embed_dim), output_dim=64)(x)\n",
    "\n",
    "bus_inputs = keras.Input(shape=(None,), dtype=\"int64\")\n",
    "y = embedding(bus_inputs)\n",
    "bus_outputs = TextFeatureExtractorLayer(\n",
    "    input_dim=(dataset.max_seq_length, embedding.embed_dim), output_dim=64)(y)\n",
    "\n",
    "outputs = -cosine_similarity(user_outputs, bus_outputs, axis=1)\n",
    "\n",
    "model = keras.Model([user_inputs, bus_inputs], outputs)\n",
    "model.compile(optimizer='rmsprop', loss='mse')\n",
    "model.summary()"
   ]
  },
  {
   "cell_type": "markdown",
   "metadata": {},
   "source": [
    "### Load Trained Params"
   ]
  },
  {
   "cell_type": "code",
   "execution_count": 4,
   "metadata": {
    "ExecuteTime": {
     "end_time": "2023-04-23T17:42:50.374716Z",
     "start_time": "2023-04-23T17:42:47.633197Z"
    }
   },
   "outputs": [
    {
     "data": {
      "text/plain": [
       "<tensorflow.python.training.tracking.util.CheckpointLoadStatus at 0x318ebdf70>"
      ]
     },
     "execution_count": 4,
     "metadata": {},
     "output_type": "execute_result"
    }
   ],
   "source": [
    "checkpoint_path = \"./training_4/cp.ckpt\"\n",
    "model.load_weights(checkpoint_path)"
   ]
  },
  {
   "cell_type": "markdown",
   "metadata": {},
   "source": [
    "## Predict"
   ]
  },
  {
   "cell_type": "code",
   "execution_count": 14,
   "metadata": {
    "ExecuteTime": {
     "end_time": "2023-04-23T17:46:58.143292Z",
     "start_time": "2023-04-23T17:46:57.560973Z"
    }
   },
   "outputs": [
    {
     "name": "stdout",
     "output_type": "stream",
     "text": [
      "4/4 [==============================] - 0s 104ms/step\n",
      "user_id: 114871201851697215045 rest_id: 60564a793019cb0a47838caf similarity score: 0.5313, actual rating: 4.0000\n",
      "user_id: 116853678991849278441 rest_id: 6041e7357dfa7f1871839538 similarity score: 0.7326, actual rating: 5.0000\n",
      "user_id: 113815392849087130851 rest_id: 60486676b1a0aaee3eef9e79 similarity score: 0.4859, actual rating: 3.0000\n",
      "user_id: 103560483922364315683 rest_id: 60509d929c93e55e75b720f4 similarity score: 0.7321, actual rating: 5.0000\n",
      "user_id: 116677519600987213388 rest_id: 604ccf013ada919c27677cce similarity score: 0.0814, actual rating: 3.0000\n",
      "user_id: 110793767867665675464 rest_id: 6043a625b81264dfa846c8a4 similarity score: 0.7781, actual rating: 4.0000\n",
      "user_id: 106439951675336292661 rest_id: 6050dc0888c7af3f893e6ea9 similarity score: 0.7783, actual rating: 5.0000\n",
      "user_id: 109973197470710088921 rest_id: 60444e468be5d4454df9f0c9 similarity score: 0.8087, actual rating: 5.0000\n",
      "user_id: 115609769405789742559 rest_id: 6041efd68be5d4454df985d8 similarity score: 0.6505, actual rating: 4.0000\n",
      "user_id: 112532107105328042474 rest_id: 6055da7e97d555cc6fb0cf48 similarity score: 0.5152, actual rating: 5.0000\n",
      "user_id: 108005225782166518698 rest_id: 60417f34c6fcf1fddba13c0c similarity score: 0.6696, actual rating: 4.0000\n",
      "user_id: 113399953879859753002 rest_id: 6050dbb3c53d98b3eace1859 similarity score: 0.4066, actual rating: 1.0000\n",
      "user_id: 108812713175029978075 rest_id: 60528142f09a4ffff042fad7 similarity score: 0.4184, actual rating: 4.0000\n",
      "user_id: 104594446426229715736 rest_id: 60432993cc4f7990c6578655 similarity score: 0.3585, actual rating: 5.0000\n",
      "user_id: 103545683079038041989 rest_id: 6049b391d4b3ada4982e7ae6 similarity score: 0.8519, actual rating: 5.0000\n",
      "user_id: 103620828344834236779 rest_id: 60491335b1a0aaee3eefa926 similarity score: 0.7607, actual rating: 5.0000\n",
      "user_id: 112999314661016743575 rest_id: 60424e6ac6fcf1fddba179ef similarity score: 0.6734, actual rating: 5.0000\n",
      "user_id: 110760606603554338651 rest_id: 60476b1c48e7cc5a9ce28863 similarity score: 0.3701, actual rating: 5.0000\n",
      "user_id: 118405075495514408233 rest_id: 60460e58604fc398f591f646 similarity score: 0.7601, actual rating: 4.0000\n",
      "user_id: 115141405694985047447 rest_id: 6049a9e7b1a0aaee3eefb1ca similarity score: 0.3712, actual rating: 5.0000\n",
      "user_id: 108657834944860953646 rest_id: 604354a0ad733fba1bcfcdd4 similarity score: 0.7900, actual rating: 1.0000\n",
      "user_id: 112412054604251084676 rest_id: 60432f50aab4c25a4e74d728 similarity score: 0.4958, actual rating: 4.0000\n",
      "user_id: 101578810245146041357 rest_id: 6049e9fbb1a0aaee3eefb45d similarity score: 0.6696, actual rating: 3.0000\n",
      "user_id: 118308079564639052465 rest_id: 6043a3b89b00092d7286cff7 similarity score: 0.5805, actual rating: 4.0000\n",
      "user_id: 101105380723577477434 rest_id: 604973ebaaa2b0649c59c042 similarity score: 0.8034, actual rating: 5.0000\n",
      "user_id: 109977826826696429983 rest_id: 6040d0de7cd8bf1303620991 similarity score: 0.7074, actual rating: 5.0000\n",
      "user_id: 117037486069732896903 rest_id: 60562230d335d0abfb415a46 similarity score: 0.7030, actual rating: 3.0000\n",
      "user_id: 114725902017172482809 rest_id: 604af97cd2eb6e0d32ff8040 similarity score: 0.6968, actual rating: 5.0000\n",
      "user_id: 107896633186853256776 rest_id: 6041ea878be5d4454df984b5 similarity score: 0.5484, actual rating: 4.0000\n",
      "user_id: 112459154774129351261 rest_id: 604f8c629755094ba8abe411 similarity score: 0.6680, actual rating: 4.0000\n",
      "user_id: 102974223357385342721 rest_id: 6053498411a96a1e3740a71d similarity score: 0.6722, actual rating: 4.0000\n",
      "user_id: 112142260262059622932 rest_id: 6051a1b8da79151bfc1259de similarity score: 0.6522, actual rating: 5.0000\n",
      "user_id: 101755494495035650026 rest_id: 6053873680c04bd7072f2137 similarity score: 0.7529, actual rating: 5.0000\n",
      "user_id: 104557502121022307035 rest_id: 60544d8b4b7f30a9c0a50d72 similarity score: 0.6673, actual rating: 4.0000\n",
      "user_id: 117799816183351764225 rest_id: 604a5def1ec03878d66c8428 similarity score: 0.5146, actual rating: 4.0000\n",
      "user_id: 116644775304922260692 rest_id: 6052bb59f09a4ffff042fc0a similarity score: 0.7790, actual rating: 4.0000\n",
      "user_id: 107705999717356152727 rest_id: 604315bbcc4f7990c6578148 similarity score: 0.6351, actual rating: 5.0000\n",
      "user_id: 107144546012277884510 rest_id: 604fc4fd84d95314a9e436d6 similarity score: 0.7925, actual rating: 5.0000\n",
      "user_id: 114591134738034545154 rest_id: 604a3e95d863393130a41295 similarity score: 0.5978, actual rating: 4.0000\n",
      "user_id: 112273275424624577376 rest_id: 604d1bba77e81aaed3cca5ac similarity score: 0.4362, actual rating: 5.0000\n",
      "user_id: 109764322906317019358 rest_id: 60572a74d2ad6b7a67e27fd9 similarity score: 0.4375, actual rating: 5.0000\n",
      "user_id: 100802787173847914351 rest_id: 604eb2c477e81aaed3ccb29a similarity score: 0.7352, actual rating: 5.0000\n",
      "user_id: 115066438863115073835 rest_id: 604192772e57ebdea29c5106 similarity score: 0.7636, actual rating: 2.0000\n",
      "user_id: 107140723785351856704 rest_id: 60506bbd4cd354c57204bf58 similarity score: 0.5485, actual rating: 3.0000\n",
      "user_id: 105490085387053906977 rest_id: 6050dfeb88c7af3f893e6eae similarity score: 0.7654, actual rating: 5.0000\n",
      "user_id: 104048279219930728243 rest_id: 604c178677e81aaed3cc9c33 similarity score: 0.6644, actual rating: 5.0000\n",
      "user_id: 109853256554436512514 rest_id: 604d61a044b28c1eda5d81e7 similarity score: 0.7743, actual rating: 4.0000\n",
      "user_id: 105994893023031973350 rest_id: 604dab0477e81aaed3ccaa15 similarity score: 0.6143, actual rating: 4.0000\n",
      "user_id: 102400453096332299180 rest_id: 6051bf0dc53d98b3eace1cd5 similarity score: 0.7500, actual rating: 5.0000\n",
      "user_id: 116084535297763283989 rest_id: 6055b93297d555cc6fb0ce9b similarity score: 0.6871, actual rating: 4.0000\n",
      "user_id: 100965615634807747709 rest_id: 604c7dcf3ada919c27677a7d similarity score: 0.3756, actual rating: 4.0000\n",
      "user_id: 102339776021951225439 rest_id: 6055e55497d555cc6fb0cf82 similarity score: 0.6505, actual rating: 4.0000\n",
      "user_id: 101999800591782486231 rest_id: 604dcff6b9a3d5528c50bb0a similarity score: 0.7845, actual rating: 5.0000\n",
      "user_id: 112550330289777111160 rest_id: 604a5958d863393130a413bf similarity score: 0.5016, actual rating: 4.0000\n",
      "user_id: 106767869711379329436 rest_id: 6054fbdf451ea67743baf0c6 similarity score: 0.5677, actual rating: 4.0000\n",
      "user_id: 100981977859806277358 rest_id: 604fcd4688c7af3f893e673e similarity score: 0.7622, actual rating: 5.0000\n",
      "user_id: 104487234149900873232 rest_id: 605700ee6fce2069470c60d1 similarity score: 0.8235, actual rating: 5.0000\n",
      "user_id: 110874193870676673568 rest_id: 604158f57dfa7f1871835dd4 similarity score: 0.4367, actual rating: 5.0000\n",
      "user_id: 100333383669376301229 rest_id: 605668623019cb0a47838d26 similarity score: 0.4383, actual rating: 5.0000\n",
      "user_id: 115321981639400489715 rest_id: 604f89e599686c10168c8f6f similarity score: 0.5450, actual rating: 4.0000\n",
      "user_id: 109344460056550324135 rest_id: 604598d99ced5955401d3947 similarity score: 0.7978, actual rating: 4.0000\n",
      "user_id: 111423928810791265051 rest_id: 604e0afc77e81aaed3ccacfb similarity score: 0.7413, actual rating: 5.0000\n",
      "user_id: 112610403709883534259 rest_id: 6041fc27475f3961ca527856 similarity score: 0.8116, actual rating: 5.0000\n",
      "user_id: 102224791146825909862 rest_id: 604f2c849755094ba8abe10c similarity score: 0.7005, actual rating: 5.0000\n",
      "user_id: 102904933180583156986 rest_id: 6040c7a17cd8bf1303620226 similarity score: 0.7457, actual rating: 5.0000\n",
      "user_id: 118160091588493212376 rest_id: 60425f3a8be5d4454df9a2df similarity score: 0.7608, actual rating: 3.0000\n",
      "user_id: 114707705049393722727 rest_id: 6052132eda79151bfc125c9a similarity score: 0.7579, actual rating: 5.0000\n",
      "user_id: 107833818031374992998 rest_id: 6051f111f09a4ffff042f7a7 similarity score: 0.4480, actual rating: 5.0000\n",
      "user_id: 105002201197617913158 rest_id: 6041a90c7dfa7f1871837e37 similarity score: 0.6132, actual rating: 5.0000\n",
      "user_id: 113527879535474168128 rest_id: 6042e7b9cc4f7990c65774ba similarity score: 0.4893, actual rating: 5.0000\n",
      "user_id: 113532721168934565309 rest_id: 604156f62e57ebdea29c37dc similarity score: 0.4609, actual rating: 5.0000\n",
      "user_id: 108141021200271907175 rest_id: 6043a6039b00092d7286d08b similarity score: 0.6585, actual rating: 4.0000\n",
      "user_id: 111327880137129760265 rest_id: 6054038f7fec92c07c643e35 similarity score: 0.7516, actual rating: 5.0000\n",
      "user_id: 116119870998276291684 rest_id: 6041ac927dfa7f187183802c similarity score: 0.7652, actual rating: 4.0000\n",
      "user_id: 108201396439815526467 rest_id: 6052750d88c7af3f893e761e similarity score: 0.7307, actual rating: 5.0000\n",
      "user_id: 104613539119072410553 rest_id: 6052b55188c7af3f893e76f8 similarity score: 0.5688, actual rating: 5.0000\n",
      "user_id: 102009284832310804648 rest_id: 6056f932d2ad6b7a67e27ee2 similarity score: 0.7654, actual rating: 5.0000\n",
      "user_id: 109187737885795134275 rest_id: 6053225b88c7af3f893e796f similarity score: 0.5085, actual rating: 5.0000\n",
      "user_id: 101342791588503467212 rest_id: 60463f35882f4d1caf5fed12 similarity score: 0.7413, actual rating: 5.0000\n",
      "user_id: 116024399131505878398 rest_id: 60458424f9754868638b370d similarity score: 0.4332, actual rating: 5.0000\n",
      "user_id: 102019941339304856672 rest_id: 605308fd25ef3e7701942280 similarity score: 0.7356, actual rating: 5.0000\n",
      "user_id: 113151638399290019461 rest_id: 6055bc8df69c7b117806fce6 similarity score: 0.7137, actual rating: 5.0000\n",
      "user_id: 114087094223595141802 rest_id: 6041f3bb2e57ebdea29c73ea similarity score: 0.5868, actual rating: 5.0000\n",
      "user_id: 102872915160564451582 rest_id: 6052802525ef3e7701942034 similarity score: 0.5894, actual rating: 4.0000\n",
      "user_id: 111597323532402185692 rest_id: 6054885f6204e8cd294f230b similarity score: 0.7936, actual rating: 5.0000\n",
      "user_id: 116954914651361105789 rest_id: 604588f89ced5955401d37fc similarity score: 0.4430, actual rating: 5.0000\n",
      "user_id: 111258753380259163721 rest_id: 6056dbe6332db125e1b4c7f1 similarity score: 0.6762, actual rating: 5.0000\n",
      "user_id: 115839950040518842140 rest_id: 604fa49e99686c10168c9073 similarity score: 0.6411, actual rating: 5.0000\n",
      "user_id: 113164420388339785686 rest_id: 60497f31416138b7a77cda98 similarity score: 0.7812, actual rating: 5.0000\n",
      "user_id: 107097252431510250892 rest_id: 604861cbb3f169c178160339 similarity score: 0.7207, actual rating: 4.0000\n",
      "user_id: 105874504554065877722 rest_id: 6051303fa740b9d848c0a8eb similarity score: 0.7812, actual rating: 5.0000\n",
      "user_id: 110268599801207263303 rest_id: 60556489d335d0abfb415806 similarity score: 0.7762, actual rating: 5.0000\n",
      "user_id: 101924812481080741078 rest_id: 60566bd2d335d0abfb415af6 similarity score: 0.7052, actual rating: 5.0000\n",
      "user_id: 115181350663239127912 rest_id: 6048b324f9e05764f1fa5822 similarity score: 0.7317, actual rating: 5.0000\n",
      "user_id: 114267196142655047762 rest_id: 60463f35882f4d1caf5fed12 similarity score: 0.4195, actual rating: 5.0000\n",
      "user_id: 112338591386446588083 rest_id: 604c76655a9e6adec8bf8ad2 similarity score: 0.5922, actual rating: 5.0000\n",
      "user_id: 111363279650276794837 rest_id: 6050b1765b4ccec8d5cae7c9 similarity score: 0.6666, actual rating: 5.0000\n",
      "user_id: 101334099430664308606 rest_id: 60443169ad733fba1bcfed1f similarity score: 0.3999, actual rating: 4.0000\n",
      "user_id: 107523156830941868214 rest_id: 60509469d8c08f462b93de5c similarity score: 0.6200, actual rating: 5.0000\n",
      "user_id: 112721284340006596872 rest_id: 6046ab483a1f1c2b73d6ff76 similarity score: 0.6611, actual rating: 5.0000\n"
     ]
    }
   ],
   "source": [
    "num_samples = 100\n",
    "predicted = model.predict([test_X_user[:num_samples], test_X_bus[:num_samples]])\n",
    "a = []\n",
    "for i in range(num_samples):\n",
    "    user_id, bus_id, rating = dataset.test_tuples[i]\n",
    "    print('user_id: %s rest_id: %s similarity score: %.4f, actual rating: %.4f' % (user_id, bus_id, predicted[i], float(rating)))\n",
    "    a.append([user_id, bus_id, predicted[i], float(rating)])"
   ]
  },
  {
   "cell_type": "code",
   "execution_count": 15,
   "metadata": {
    "ExecuteTime": {
     "end_time": "2023-04-23T17:47:49.669071Z",
     "start_time": "2023-04-23T17:47:49.664746Z"
    }
   },
   "outputs": [],
   "source": [
    "import pandas as pd\n",
    "\n",
    "df = pd.DataFrame(a, columns=['user id', 'restaurant id', 'similarity score', 'actual rating'])"
   ]
  },
  {
   "cell_type": "code",
   "execution_count": null,
   "metadata": {},
   "outputs": [],
   "source": []
  },
  {
   "cell_type": "code",
   "execution_count": 17,
   "metadata": {
    "ExecuteTime": {
     "end_time": "2023-04-23T17:52:12.549896Z",
     "start_time": "2023-04-23T17:52:12.544929Z"
    }
   },
   "outputs": [
    {
     "data": {
      "text/html": [
       "<div>\n",
       "<style scoped>\n",
       "    .dataframe tbody tr th:only-of-type {\n",
       "        vertical-align: middle;\n",
       "    }\n",
       "\n",
       "    .dataframe tbody tr th {\n",
       "        vertical-align: top;\n",
       "    }\n",
       "\n",
       "    .dataframe thead th {\n",
       "        text-align: right;\n",
       "    }\n",
       "</style>\n",
       "<table border=\"1\" class=\"dataframe\">\n",
       "  <thead>\n",
       "    <tr style=\"text-align: right;\">\n",
       "      <th></th>\n",
       "      <th>user id</th>\n",
       "      <th>restaurant id</th>\n",
       "      <th>similarity score</th>\n",
       "      <th>actual rating</th>\n",
       "    </tr>\n",
       "  </thead>\n",
       "  <tbody>\n",
       "    <tr>\n",
       "      <th>0</th>\n",
       "      <td>114871201851697215045</td>\n",
       "      <td>60564a793019cb0a47838caf</td>\n",
       "      <td>0.531320</td>\n",
       "      <td>4.0</td>\n",
       "    </tr>\n",
       "    <tr>\n",
       "      <th>1</th>\n",
       "      <td>116853678991849278441</td>\n",
       "      <td>6041e7357dfa7f1871839538</td>\n",
       "      <td>0.732573</td>\n",
       "      <td>5.0</td>\n",
       "    </tr>\n",
       "    <tr>\n",
       "      <th>2</th>\n",
       "      <td>113815392849087130851</td>\n",
       "      <td>60486676b1a0aaee3eef9e79</td>\n",
       "      <td>0.485863</td>\n",
       "      <td>3.0</td>\n",
       "    </tr>\n",
       "    <tr>\n",
       "      <th>3</th>\n",
       "      <td>103560483922364315683</td>\n",
       "      <td>60509d929c93e55e75b720f4</td>\n",
       "      <td>0.732054</td>\n",
       "      <td>5.0</td>\n",
       "    </tr>\n",
       "    <tr>\n",
       "      <th>4</th>\n",
       "      <td>116677519600987213388</td>\n",
       "      <td>604ccf013ada919c27677cce</td>\n",
       "      <td>0.081354</td>\n",
       "      <td>3.0</td>\n",
       "    </tr>\n",
       "    <tr>\n",
       "      <th>...</th>\n",
       "      <td>...</td>\n",
       "      <td>...</td>\n",
       "      <td>...</td>\n",
       "      <td>...</td>\n",
       "    </tr>\n",
       "    <tr>\n",
       "      <th>95</th>\n",
       "      <td>112338591386446588083</td>\n",
       "      <td>604c76655a9e6adec8bf8ad2</td>\n",
       "      <td>0.592151</td>\n",
       "      <td>5.0</td>\n",
       "    </tr>\n",
       "    <tr>\n",
       "      <th>96</th>\n",
       "      <td>111363279650276794837</td>\n",
       "      <td>6050b1765b4ccec8d5cae7c9</td>\n",
       "      <td>0.666596</td>\n",
       "      <td>5.0</td>\n",
       "    </tr>\n",
       "    <tr>\n",
       "      <th>97</th>\n",
       "      <td>101334099430664308606</td>\n",
       "      <td>60443169ad733fba1bcfed1f</td>\n",
       "      <td>0.399905</td>\n",
       "      <td>4.0</td>\n",
       "    </tr>\n",
       "    <tr>\n",
       "      <th>98</th>\n",
       "      <td>107523156830941868214</td>\n",
       "      <td>60509469d8c08f462b93de5c</td>\n",
       "      <td>0.619996</td>\n",
       "      <td>5.0</td>\n",
       "    </tr>\n",
       "    <tr>\n",
       "      <th>99</th>\n",
       "      <td>112721284340006596872</td>\n",
       "      <td>6046ab483a1f1c2b73d6ff76</td>\n",
       "      <td>0.661093</td>\n",
       "      <td>5.0</td>\n",
       "    </tr>\n",
       "  </tbody>\n",
       "</table>\n",
       "<p>100 rows × 4 columns</p>\n",
       "</div>"
      ],
      "text/plain": [
       "                  user id             restaurant id  similarity score  \\\n",
       "0   114871201851697215045  60564a793019cb0a47838caf          0.531320   \n",
       "1   116853678991849278441  6041e7357dfa7f1871839538          0.732573   \n",
       "2   113815392849087130851  60486676b1a0aaee3eef9e79          0.485863   \n",
       "3   103560483922364315683  60509d929c93e55e75b720f4          0.732054   \n",
       "4   116677519600987213388  604ccf013ada919c27677cce          0.081354   \n",
       "..                    ...                       ...               ...   \n",
       "95  112338591386446588083  604c76655a9e6adec8bf8ad2          0.592151   \n",
       "96  111363279650276794837  6050b1765b4ccec8d5cae7c9          0.666596   \n",
       "97  101334099430664308606  60443169ad733fba1bcfed1f          0.399905   \n",
       "98  107523156830941868214  60509469d8c08f462b93de5c          0.619996   \n",
       "99  112721284340006596872  6046ab483a1f1c2b73d6ff76          0.661093   \n",
       "\n",
       "    actual rating  \n",
       "0             4.0  \n",
       "1             5.0  \n",
       "2             3.0  \n",
       "3             5.0  \n",
       "4             3.0  \n",
       "..            ...  \n",
       "95            5.0  \n",
       "96            5.0  \n",
       "97            4.0  \n",
       "98            5.0  \n",
       "99            5.0  \n",
       "\n",
       "[100 rows x 4 columns]"
      ]
     },
     "execution_count": 17,
     "metadata": {},
     "output_type": "execute_result"
    }
   ],
   "source": [
    "df"
   ]
  },
  {
   "cell_type": "markdown",
   "metadata": {},
   "source": [
    "# Evaluation"
   ]
  },
  {
   "cell_type": "markdown",
   "metadata": {},
   "source": [
    "## Evaluating on Training Data"
   ]
  },
  {
   "cell_type": "code",
   "execution_count": 6,
   "metadata": {
    "ExecuteTime": {
     "end_time": "2023-04-23T17:42:58.994541Z",
     "start_time": "2023-04-23T17:42:58.992783Z"
    }
   },
   "outputs": [],
   "source": [
    "from tqdm import tqdm\n",
    "import numpy as np"
   ]
  },
  {
   "cell_type": "code",
   "execution_count": 7,
   "metadata": {
    "ExecuteTime": {
     "end_time": "2023-04-23T17:43:01.165343Z",
     "start_time": "2023-04-23T17:42:58.996693Z"
    }
   },
   "outputs": [
    {
     "name": "stdout",
     "output_type": "stream",
     "text": [
      "1/1 [==============================] - 2s 2s/step\n"
     ]
    },
    {
     "data": {
      "text/plain": [
       "0.35495102"
      ]
     },
     "execution_count": 7,
     "metadata": {},
     "output_type": "execute_result"
    }
   ],
   "source": [
    "model.predict([train_X_user[0:1], train_X_bus[0:1]])[0]"
   ]
  },
  {
   "cell_type": "code",
   "execution_count": 8,
   "metadata": {
    "ExecuteTime": {
     "end_time": "2023-04-23T17:43:33.747959Z",
     "start_time": "2023-04-23T17:43:01.166543Z"
    }
   },
   "outputs": [
    {
     "name": "stdout",
     "output_type": "stream",
     "text": [
      "313/313 [==============================] - 32s 102ms/step\n"
     ]
    }
   ],
   "source": [
    "predict = model.predict([np.vstack([[train_X_user[3]]*10000]), train_X_bus[:10000]])"
   ]
  },
  {
   "cell_type": "code",
   "execution_count": 9,
   "metadata": {
    "ExecuteTime": {
     "end_time": "2023-04-23T17:43:33.753351Z",
     "start_time": "2023-04-23T17:43:33.749108Z"
    }
   },
   "outputs": [
    {
     "data": {
      "text/plain": [
       "array([0.7693964, 0.7693964, 0.7693964, ..., 0.7693964, 0.7693964,\n",
       "       0.7693964], dtype=float32)"
      ]
     },
     "execution_count": 9,
     "metadata": {},
     "output_type": "execute_result"
    }
   ],
   "source": [
    "np.sort(predict)"
   ]
  },
  {
   "cell_type": "code",
   "execution_count": 1,
   "metadata": {
    "ExecuteTime": {
     "end_time": "2023-05-01T16:44:30.383992Z",
     "start_time": "2023-05-01T16:44:30.378966Z"
    }
   },
   "outputs": [],
   "source": [
    "%load_ext tensorboard"
   ]
  },
  {
   "cell_type": "code",
   "execution_count": 4,
   "metadata": {},
   "outputs": [
    {
     "data": {
      "text/plain": [
       "Reusing TensorBoard on port 6007 (pid 77382), started 0:09:17 ago. (Use '!kill 77382' to kill it.)"
      ]
     },
     "metadata": {},
     "output_type": "display_data"
    },
    {
     "data": {
      "text/html": [
       "\n",
       "      <iframe id=\"tensorboard-frame-c62b44ace8076922\" width=\"100%\" height=\"800\" frameborder=\"0\">\n",
       "      </iframe>\n",
       "      <script>\n",
       "        (function() {\n",
       "          const frame = document.getElementById(\"tensorboard-frame-c62b44ace8076922\");\n",
       "          const url = new URL(\"/\", window.location);\n",
       "          const port = 6007;\n",
       "          if (port) {\n",
       "            url.port = port;\n",
       "          }\n",
       "          frame.src = url;\n",
       "        })();\n",
       "      </script>\n",
       "    "
      ],
      "text/plain": [
       "<IPython.core.display.HTML object>"
      ]
     },
     "metadata": {},
     "output_type": "display_data"
    }
   ],
   "source": [
    "%tensorboard --logdir logs/"
   ]
  },
  {
   "cell_type": "code",
   "execution_count": null,
   "metadata": {},
   "outputs": [],
   "source": []
  }
 ],
 "metadata": {
  "kernelspec": {
   "display_name": "Python 3 (ipykernel)",
   "language": "python",
   "name": "python3"
  },
  "language_info": {
   "codemirror_mode": {
    "name": "ipython",
    "version": 3
   },
   "file_extension": ".py",
   "mimetype": "text/x-python",
   "name": "python",
   "nbconvert_exporter": "python",
   "pygments_lexer": "ipython3",
   "version": "3.9.15"
  }
 },
 "nbformat": 4,
 "nbformat_minor": 1
}
